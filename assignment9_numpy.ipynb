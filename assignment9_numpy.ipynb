{
 "cells": [
  {
   "cell_type": "markdown",
   "metadata": {},
   "source": [
    "Import the numpy module"
   ]
  },
  {
   "cell_type": "code",
   "execution_count": 2,
   "metadata": {},
   "outputs": [],
   "source": [
    "import numpy as np"
   ]
  },
  {
   "cell_type": "markdown",
   "metadata": {},
   "source": [
    "Create a 1d numpy array called arr1 that looks like the one below. Display it."
   ]
  },
  {
   "cell_type": "code",
   "execution_count": 3,
   "metadata": {},
   "outputs": [
    {
     "data": {
      "text/plain": [
       "array([ 3,  6,  9, 12, 15])"
      ]
     },
     "execution_count": 3,
     "metadata": {},
     "output_type": "execute_result"
    }
   ],
   "source": [
    "arr1 = np.array([3,  6,  9, 12, 15])\n",
    "arr1"
   ]
  },
  {
   "cell_type": "markdown",
   "metadata": {},
   "source": [
    "Print out the 3rd element of the array."
   ]
  },
  {
   "cell_type": "code",
   "execution_count": 4,
   "metadata": {},
   "outputs": [
    {
     "data": {
      "text/plain": [
       "9"
      ]
     },
     "execution_count": 4,
     "metadata": {},
     "output_type": "execute_result"
    }
   ],
   "source": [
    "arr1[2]"
   ]
  },
  {
   "cell_type": "markdown",
   "metadata": {},
   "source": [
    "Create a 2d numpy array called arr2 that looks like the one below. Display it."
   ]
  },
  {
   "cell_type": "code",
   "execution_count": 5,
   "metadata": {},
   "outputs": [
    {
     "data": {
      "text/plain": [
       "array([[ 2,  4,  6],\n",
       "       [ 3,  6,  9],\n",
       "       [ 4,  8, 12]])"
      ]
     },
     "execution_count": 5,
     "metadata": {},
     "output_type": "execute_result"
    }
   ],
   "source": [
    "arr2 = np.array([[2,  4,  6],[3,  6,  9],[4,  8, 12]])\n",
    "arr2"
   ]
  },
  {
   "cell_type": "markdown",
   "metadata": {},
   "source": [
    "Print out the element at row index=2, col index=1."
   ]
  },
  {
   "cell_type": "code",
   "execution_count": 6,
   "metadata": {},
   "outputs": [
    {
     "data": {
      "text/plain": [
       "8"
      ]
     },
     "execution_count": 6,
     "metadata": {},
     "output_type": "execute_result"
    }
   ],
   "source": [
    "arr2[2,1]"
   ]
  },
  {
   "cell_type": "markdown",
   "metadata": {},
   "source": [
    "Create an array that goes from 0 to 100 with step=3. Display it."
   ]
  },
  {
   "cell_type": "code",
   "execution_count": 7,
   "metadata": {},
   "outputs": [
    {
     "data": {
      "text/plain": [
       "array([ 0,  3,  6,  9, 12, 15, 18, 21, 24, 27, 30, 33, 36, 39, 42, 45, 48,\n",
       "       51, 54, 57, 60, 63, 66, 69, 72, 75, 78, 81, 84, 87, 90, 93, 96, 99])"
      ]
     },
     "execution_count": 7,
     "metadata": {},
     "output_type": "execute_result"
    }
   ],
   "source": [
    "np.arange(0,101,3)"
   ]
  },
  {
   "cell_type": "markdown",
   "metadata": {},
   "source": [
    "Create a 10x5 2d array filled with zeroes. Display it."
   ]
  },
  {
   "cell_type": "code",
   "execution_count": 47,
   "metadata": {},
   "outputs": [
    {
     "data": {
      "text/plain": [
       "array([[0., 0., 0., 0., 0.],\n",
       "       [0., 0., 0., 0., 0.],\n",
       "       [0., 0., 0., 0., 0.],\n",
       "       [0., 0., 0., 0., 0.],\n",
       "       [0., 0., 0., 0., 0.],\n",
       "       [0., 0., 0., 0., 0.],\n",
       "       [0., 0., 0., 0., 0.],\n",
       "       [0., 0., 0., 0., 0.],\n",
       "       [0., 0., 0., 0., 0.],\n",
       "       [0., 0., 0., 0., 0.]])"
      ]
     },
     "execution_count": 47,
     "metadata": {},
     "output_type": "execute_result"
    }
   ],
   "source": [
    "np.zeros((10,5))"
   ]
  },
  {
   "cell_type": "markdown",
   "metadata": {},
   "source": [
    "Create an array called lin1d, that has 100 data points spaced between 57 and 108. Display it."
   ]
  },
  {
   "cell_type": "code",
   "execution_count": 48,
   "metadata": {},
   "outputs": [
    {
     "data": {
      "text/plain": [
       "array([ 57.        ,  57.51515152,  58.03030303,  58.54545455,\n",
       "        59.06060606,  59.57575758,  60.09090909,  60.60606061,\n",
       "        61.12121212,  61.63636364,  62.15151515,  62.66666667,\n",
       "        63.18181818,  63.6969697 ,  64.21212121,  64.72727273,\n",
       "        65.24242424,  65.75757576,  66.27272727,  66.78787879,\n",
       "        67.3030303 ,  67.81818182,  68.33333333,  68.84848485,\n",
       "        69.36363636,  69.87878788,  70.39393939,  70.90909091,\n",
       "        71.42424242,  71.93939394,  72.45454545,  72.96969697,\n",
       "        73.48484848,  74.        ,  74.51515152,  75.03030303,\n",
       "        75.54545455,  76.06060606,  76.57575758,  77.09090909,\n",
       "        77.60606061,  78.12121212,  78.63636364,  79.15151515,\n",
       "        79.66666667,  80.18181818,  80.6969697 ,  81.21212121,\n",
       "        81.72727273,  82.24242424,  82.75757576,  83.27272727,\n",
       "        83.78787879,  84.3030303 ,  84.81818182,  85.33333333,\n",
       "        85.84848485,  86.36363636,  86.87878788,  87.39393939,\n",
       "        87.90909091,  88.42424242,  88.93939394,  89.45454545,\n",
       "        89.96969697,  90.48484848,  91.        ,  91.51515152,\n",
       "        92.03030303,  92.54545455,  93.06060606,  93.57575758,\n",
       "        94.09090909,  94.60606061,  95.12121212,  95.63636364,\n",
       "        96.15151515,  96.66666667,  97.18181818,  97.6969697 ,\n",
       "        98.21212121,  98.72727273,  99.24242424,  99.75757576,\n",
       "       100.27272727, 100.78787879, 101.3030303 , 101.81818182,\n",
       "       102.33333333, 102.84848485, 103.36363636, 103.87878788,\n",
       "       104.39393939, 104.90909091, 105.42424242, 105.93939394,\n",
       "       106.45454545, 106.96969697, 107.48484848, 108.        ])"
      ]
     },
     "execution_count": 48,
     "metadata": {},
     "output_type": "execute_result"
    }
   ],
   "source": [
    "lin1d = np.linspace(57,108,100)\n",
    "lin1d"
   ]
  },
  {
   "cell_type": "markdown",
   "metadata": {},
   "source": [
    "Reshape lin1d to be 10x10 and call it lin2d. Display it."
   ]
  },
  {
   "cell_type": "code",
   "execution_count": 49,
   "metadata": {},
   "outputs": [
    {
     "data": {
      "text/plain": [
       "array([[ 57.        ,  57.51515152,  58.03030303,  58.54545455,\n",
       "         59.06060606,  59.57575758,  60.09090909,  60.60606061,\n",
       "         61.12121212,  61.63636364],\n",
       "       [ 62.15151515,  62.66666667,  63.18181818,  63.6969697 ,\n",
       "         64.21212121,  64.72727273,  65.24242424,  65.75757576,\n",
       "         66.27272727,  66.78787879],\n",
       "       [ 67.3030303 ,  67.81818182,  68.33333333,  68.84848485,\n",
       "         69.36363636,  69.87878788,  70.39393939,  70.90909091,\n",
       "         71.42424242,  71.93939394],\n",
       "       [ 72.45454545,  72.96969697,  73.48484848,  74.        ,\n",
       "         74.51515152,  75.03030303,  75.54545455,  76.06060606,\n",
       "         76.57575758,  77.09090909],\n",
       "       [ 77.60606061,  78.12121212,  78.63636364,  79.15151515,\n",
       "         79.66666667,  80.18181818,  80.6969697 ,  81.21212121,\n",
       "         81.72727273,  82.24242424],\n",
       "       [ 82.75757576,  83.27272727,  83.78787879,  84.3030303 ,\n",
       "         84.81818182,  85.33333333,  85.84848485,  86.36363636,\n",
       "         86.87878788,  87.39393939],\n",
       "       [ 87.90909091,  88.42424242,  88.93939394,  89.45454545,\n",
       "         89.96969697,  90.48484848,  91.        ,  91.51515152,\n",
       "         92.03030303,  92.54545455],\n",
       "       [ 93.06060606,  93.57575758,  94.09090909,  94.60606061,\n",
       "         95.12121212,  95.63636364,  96.15151515,  96.66666667,\n",
       "         97.18181818,  97.6969697 ],\n",
       "       [ 98.21212121,  98.72727273,  99.24242424,  99.75757576,\n",
       "        100.27272727, 100.78787879, 101.3030303 , 101.81818182,\n",
       "        102.33333333, 102.84848485],\n",
       "       [103.36363636, 103.87878788, 104.39393939, 104.90909091,\n",
       "        105.42424242, 105.93939394, 106.45454545, 106.96969697,\n",
       "        107.48484848, 108.        ]])"
      ]
     },
     "execution_count": 49,
     "metadata": {},
     "output_type": "execute_result"
    }
   ],
   "source": [
    "lin2d = lin1d.reshape(10,10)\n",
    "lin2d"
   ]
  },
  {
   "cell_type": "markdown",
   "metadata": {},
   "source": [
    "Print out the shape of lin1d and lin2d."
   ]
  },
  {
   "cell_type": "code",
   "execution_count": 50,
   "metadata": {},
   "outputs": [
    {
     "name": "stdout",
     "output_type": "stream",
     "text": [
      "lin1d: (100,)\n",
      "lin2d: (10, 10)\n"
     ]
    }
   ],
   "source": [
    "print('lin1d:', lin1d.shape)\n",
    "print('lin2d:', lin2d.shape)"
   ]
  },
  {
   "cell_type": "markdown",
   "metadata": {},
   "source": [
    "Generate a 5x5 array of random numbers called nums. Display it."
   ]
  },
  {
   "cell_type": "code",
   "execution_count": 51,
   "metadata": {},
   "outputs": [
    {
     "data": {
      "text/plain": [
       "array([[0.34024107, 0.08313746, 0.33765704, 0.16391986, 0.42325399],\n",
       "       [0.44562246, 0.3672474 , 0.16962035, 0.2901589 , 0.44155428],\n",
       "       [0.63563348, 0.44861238, 0.57810209, 0.98144601, 0.05861963],\n",
       "       [0.12644198, 0.7513453 , 0.82300524, 0.65778031, 0.16417522],\n",
       "       [0.35588077, 0.65473128, 0.32509694, 0.90585328, 0.46867657]])"
      ]
     },
     "execution_count": 51,
     "metadata": {},
     "output_type": "execute_result"
    }
   ],
   "source": [
    "nums = np.random.rand(5,5)\n",
    "nums"
   ]
  },
  {
   "cell_type": "markdown",
   "metadata": {},
   "source": [
    "Print out the min, max and mean of the nums array."
   ]
  },
  {
   "cell_type": "code",
   "execution_count": 52,
   "metadata": {},
   "outputs": [
    {
     "name": "stdout",
     "output_type": "stream",
     "text": [
      "Min: 0.05861962954502642\n",
      "Max: 0.9814460059513633\n",
      "Mean: 0.4399125310402283\n"
     ]
    }
   ],
   "source": [
    "print('Min:', nums.min())\n",
    "print('Max:', nums.max())\n",
    "print('Mean:', nums.mean())"
   ]
  },
  {
   "cell_type": "markdown",
   "metadata": {},
   "source": [
    "Multiple the entire array nums x2 and store it back in nums. Display the result."
   ]
  },
  {
   "cell_type": "code",
   "execution_count": 53,
   "metadata": {},
   "outputs": [
    {
     "data": {
      "text/plain": [
       "array([[0.68048215, 0.16627492, 0.67531408, 0.32783971, 0.84650797],\n",
       "       [0.89124492, 0.7344948 , 0.3392407 , 0.58031781, 0.88310856],\n",
       "       [1.27126696, 0.89722476, 1.15620419, 1.96289201, 0.11723926],\n",
       "       [0.25288395, 1.50269061, 1.64601049, 1.31556061, 0.32835043],\n",
       "       [0.71176154, 1.30946256, 0.65019387, 1.81170656, 0.93735315]])"
      ]
     },
     "execution_count": 53,
     "metadata": {},
     "output_type": "execute_result"
    }
   ],
   "source": [
    "nums = nums*2\n",
    "nums"
   ]
  },
  {
   "cell_type": "markdown",
   "metadata": {},
   "source": [
    "Select row index 1 to 2 and col index 2 to 3 and display the result."
   ]
  },
  {
   "cell_type": "code",
   "execution_count": 54,
   "metadata": {},
   "outputs": [
    {
     "data": {
      "text/plain": [
       "array([[0.3392407 , 0.58031781],\n",
       "       [1.15620419, 1.96289201]])"
      ]
     },
     "execution_count": 54,
     "metadata": {},
     "output_type": "execute_result"
    }
   ],
   "source": [
    "nums[1:3,2:4]"
   ]
  },
  {
   "cell_type": "markdown",
   "metadata": {},
   "source": [
    "Modify that same selection by multiplying it x10, then display the new nums array."
   ]
  },
  {
   "cell_type": "code",
   "execution_count": 55,
   "metadata": {},
   "outputs": [
    {
     "data": {
      "text/plain": [
       "array([[ 0.68048215,  0.16627492,  0.67531408,  0.32783971,  0.84650797],\n",
       "       [ 0.89124492,  0.7344948 ,  3.392407  ,  5.80317809,  0.88310856],\n",
       "       [ 1.27126696,  0.89722476, 11.56204185, 19.62892012,  0.11723926],\n",
       "       [ 0.25288395,  1.50269061,  1.64601049,  1.31556061,  0.32835043],\n",
       "       [ 0.71176154,  1.30946256,  0.65019387,  1.81170656,  0.93735315]])"
      ]
     },
     "execution_count": 55,
     "metadata": {},
     "output_type": "execute_result"
    }
   ],
   "source": [
    "nums[1:3,2:4] = nums[1:3,2:4]*10\n",
    "nums"
   ]
  }
 ],
 "metadata": {
  "kernelspec": {
   "display_name": "Python 3 (ipykernel)",
   "language": "python",
   "name": "python3"
  },
  "language_info": {
   "codemirror_mode": {
    "name": "ipython",
    "version": 3
   },
   "file_extension": ".py",
   "mimetype": "text/x-python",
   "name": "python",
   "nbconvert_exporter": "python",
   "pygments_lexer": "ipython3",
   "version": "3.9.12"
  }
 },
 "nbformat": 4,
 "nbformat_minor": 2
}
